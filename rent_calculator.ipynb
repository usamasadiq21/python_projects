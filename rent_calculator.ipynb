{
 "cells": [
  {
   "cell_type": "markdown",
   "metadata": {},
   "source": [
    "### HOUSE RENT CALCULATOR PROJECT"
   ]
  },
  {
   "cell_type": "code",
   "execution_count": 1,
   "metadata": {},
   "outputs": [
    {
     "name": "stdout",
     "output_type": "stream",
     "text": [
      "The amount need to pay by per person = 24960.0\n"
     ]
    }
   ],
   "source": [
    "num_of_people = int(input('Enter No. of people living in the hostel/apartment => '))\n",
    "total_rent = int(input('Enter total Rent => '))\n",
    "food_bill = int(input('Enter Food Bill => '))\n",
    "elect_unit_consumed = int(input('Enter unit consumed => '))\n",
    "electricity_per_unit_charge = int(input('Enter price of a unit => '))\n",
    "total_utility_bill = elect_unit_consumed * electricity_per_unit_charge\n",
    "\n",
    "output = (total_rent + food_bill + total_utility_bill)/ num_of_people\n",
    "\n",
    "print(f'The amount need to pay by per person = {output}')"
   ]
  },
  {
   "cell_type": "code",
   "execution_count": null,
   "metadata": {},
   "outputs": [],
   "source": []
  }
 ],
 "metadata": {
  "kernelspec": {
   "display_name": "Python 3",
   "language": "python",
   "name": "python3"
  },
  "language_info": {
   "codemirror_mode": {
    "name": "ipython",
    "version": 3
   },
   "file_extension": ".py",
   "mimetype": "text/x-python",
   "name": "python",
   "nbconvert_exporter": "python",
   "pygments_lexer": "ipython3",
   "version": "3.12.3"
  }
 },
 "nbformat": 4,
 "nbformat_minor": 2
}
