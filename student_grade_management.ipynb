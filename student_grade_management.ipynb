{
 "cells": [
  {
   "cell_type": "markdown",
   "metadata": {},
   "source": [
    "### Student Grade Management System"
   ]
  },
  {
   "cell_type": "code",
   "execution_count": 23,
   "metadata": {},
   "outputs": [],
   "source": [
    "# Making Dictionary\n",
    "students = [\n",
    "    {\"name\": \"Usama\",\n",
    "    \"marks\": 200,\n",
    "    \"grade\": \"B\"},\n",
    "\n",
    "    {\"name\": \"Saad\",\n",
    "    \"marks\": 400,\n",
    "    \"grade\": \"C\"},\n",
    "\n",
    "    {\"name\": \"Fahad\",\n",
    "    \"marks\": 600,\n",
    "    \"grade\": \"D\"},\n",
    "]"
   ]
  },
  {
   "cell_type": "code",
   "execution_count": 25,
   "metadata": {},
   "outputs": [
    {
     "data": {
      "text/plain": [
       "{'name': 'Saad', 'marks': 400, 'grade': 'C'}"
      ]
     },
     "execution_count": 25,
     "metadata": {},
     "output_type": "execute_result"
    }
   ],
   "source": [
    "# Accessing Individual Dictionary\n",
    "students[1]\n"
   ]
  },
  {
   "cell_type": "code",
   "execution_count": 22,
   "metadata": {},
   "outputs": [
    {
     "name": "stdout",
     "output_type": "stream",
     "text": [
      "{'name': 'Usama', 'marks': 600, 'grade': 'B'}\n"
     ]
    }
   ],
   "source": [
    "# Updating Individual item in dictionary\n",
    "students[0]['marks'] = 600\n",
    "print(students[0])"
   ]
  },
  {
   "cell_type": "code",
   "execution_count": 17,
   "metadata": {},
   "outputs": [
    {
     "name": "stdout",
     "output_type": "stream",
     "text": [
      "{'name': 'Hamza', 'marks': 400, 'grade': 'C'}\n"
     ]
    }
   ],
   "source": [
    "for student  in students:\n",
    "    if student['name'] == 'Saad':\n",
    "        student['name'] = 'Hamza'\n",
    "        print(student)"
   ]
  },
  {
   "cell_type": "code",
   "execution_count": null,
   "metadata": {},
   "outputs": [],
   "source": []
  }
 ],
 "metadata": {
  "kernelspec": {
   "display_name": "Python 3",
   "language": "python",
   "name": "python3"
  },
  "language_info": {
   "codemirror_mode": {
    "name": "ipython",
    "version": 3
   },
   "file_extension": ".py",
   "mimetype": "text/x-python",
   "name": "python",
   "nbconvert_exporter": "python",
   "pygments_lexer": "ipython3",
   "version": "3.12.3"
  }
 },
 "nbformat": 4,
 "nbformat_minor": 2
}
