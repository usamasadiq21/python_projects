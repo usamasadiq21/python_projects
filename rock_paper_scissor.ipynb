{
 "cells": [
  {
   "cell_type": "markdown",
   "metadata": {},
   "source": [
    "### Rock-Paper-Scissor"
   ]
  },
  {
   "cell_type": "code",
   "execution_count": 1,
   "metadata": {},
   "outputs": [],
   "source": [
    "import random"
   ]
  },
  {
   "cell_type": "code",
   "execution_count": 2,
   "metadata": {},
   "outputs": [],
   "source": [
    "item_list = ['Rock', 'Paper', 'Scissor']"
   ]
  },
  {
   "cell_type": "code",
   "execution_count": 29,
   "metadata": {},
   "outputs": [
    {
     "name": "stdout",
     "output_type": "stream",
     "text": [
      "COMPUTER WINS!!! \n",
      "User Choice = Paper \n",
      "Computer Choice = Scissor\n"
     ]
    }
   ],
   "source": [
    "user_choice = input('Enter anything from Rock, Paper, Scissor..').title()\n",
    "computer_choice = random.choice(item_list)\n",
    "\n",
    "if user_choice not in item_list:\n",
    "    print('Enter a valid value...')\n",
    "\n",
    "else:\n",
    "    if user_choice == computer_choice:\n",
    "        print(f'Match Ties, User-Choice and Computer-Choice are same as => {user_choice, computer_choice}')\n",
    "\n",
    "    elif user_choice == 'Rock' and computer_choice == 'Paper':\n",
    "        print(f'COMPUTER WINS!!! \\nUser Choice = {user_choice} \\nComputer Choice = {computer_choice}')\n",
    "\n",
    "    elif user_choice == 'Rock' and computer_choice == 'Scissor':\n",
    "        print(f'USER WINS!!! \\nUser Choice = {user_choice} \\nComputer Choice = {computer_choice}')\n",
    "\n",
    "    elif user_choice == 'Paper' and computer_choice == 'Rock':\n",
    "        print(f'USER WINS!!! \\nUser Choice = {user_choice} \\nComputer Choice = {computer_choice}')\n",
    "    \n",
    "    elif user_choice == 'Paper' and computer_choice == 'Scissor':\n",
    "        print(f'COMPUTER WINS!!! \\nUser Choice = {user_choice} \\nComputer Choice = {computer_choice}')\n",
    "\n",
    "    elif user_choice == 'Scissor' and computer_choice == 'Paper':\n",
    "        print(f'USER WINS!!! \\nUser Choice = {user_choice} \\nComputer Choice = {computer_choice}')\n",
    "    \n",
    "    elif user_choice == 'Scissor' and computer_choice == 'Rock':\n",
    "        print(f'COMPUTER WINS!!! \\nUser Choice = {user_choice} \\nComputer Choice = {computer_choice}')\n",
    "        \n",
    "    else:\n",
    "        print('Try again!!')"
   ]
  },
  {
   "cell_type": "code",
   "execution_count": null,
   "metadata": {},
   "outputs": [],
   "source": []
  },
  {
   "cell_type": "code",
   "execution_count": null,
   "metadata": {},
   "outputs": [],
   "source": []
  }
 ],
 "metadata": {
  "kernelspec": {
   "display_name": "Python 3",
   "language": "python",
   "name": "python3"
  },
  "language_info": {
   "codemirror_mode": {
    "name": "ipython",
    "version": 3
   },
   "file_extension": ".py",
   "mimetype": "text/x-python",
   "name": "python",
   "nbconvert_exporter": "python",
   "pygments_lexer": "ipython3",
   "version": "3.12.3"
  }
 },
 "nbformat": 4,
 "nbformat_minor": 2
}
